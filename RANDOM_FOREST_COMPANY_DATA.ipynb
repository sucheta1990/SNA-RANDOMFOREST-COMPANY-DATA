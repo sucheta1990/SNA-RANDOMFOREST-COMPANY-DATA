{
 "cells": [
  {
   "cell_type": "code",
   "execution_count": 29,
   "id": "76687aa0",
   "metadata": {},
   "outputs": [],
   "source": [
    "import pandas as pd\n",
    "import numpy as np\n",
    "import matplotlib.pyplot as plt\n",
    "from sklearn.metrics import accuracy_score as ac\n",
    "from sklearn.metrics import classification_report\n",
    "from sklearn.preprocessing import LabelEncoder,StandardScaler\n",
    "from sklearn.tree import DecisionTreeClassifier\n",
    "from sklearn.ensemble import RandomForestRegressor,RandomForestClassifier"
   ]
  },
  {
   "cell_type": "code",
   "execution_count": 30,
   "id": "94081abb",
   "metadata": {},
   "outputs": [
    {
     "data": {
      "text/html": [
       "<div>\n",
       "<style scoped>\n",
       "    .dataframe tbody tr th:only-of-type {\n",
       "        vertical-align: middle;\n",
       "    }\n",
       "\n",
       "    .dataframe tbody tr th {\n",
       "        vertical-align: top;\n",
       "    }\n",
       "\n",
       "    .dataframe thead th {\n",
       "        text-align: right;\n",
       "    }\n",
       "</style>\n",
       "<table border=\"1\" class=\"dataframe\">\n",
       "  <thead>\n",
       "    <tr style=\"text-align: right;\">\n",
       "      <th></th>\n",
       "      <th>Sales</th>\n",
       "      <th>CompPrice</th>\n",
       "      <th>Income</th>\n",
       "      <th>Advertising</th>\n",
       "      <th>Population</th>\n",
       "      <th>Price</th>\n",
       "      <th>ShelveLoc</th>\n",
       "      <th>Age</th>\n",
       "      <th>Education</th>\n",
       "      <th>Urban</th>\n",
       "      <th>US</th>\n",
       "    </tr>\n",
       "  </thead>\n",
       "  <tbody>\n",
       "    <tr>\n",
       "      <th>0</th>\n",
       "      <td>9.50</td>\n",
       "      <td>138</td>\n",
       "      <td>73</td>\n",
       "      <td>11</td>\n",
       "      <td>276</td>\n",
       "      <td>120</td>\n",
       "      <td>Bad</td>\n",
       "      <td>42</td>\n",
       "      <td>17</td>\n",
       "      <td>Yes</td>\n",
       "      <td>Yes</td>\n",
       "    </tr>\n",
       "    <tr>\n",
       "      <th>1</th>\n",
       "      <td>11.22</td>\n",
       "      <td>111</td>\n",
       "      <td>48</td>\n",
       "      <td>16</td>\n",
       "      <td>260</td>\n",
       "      <td>83</td>\n",
       "      <td>Good</td>\n",
       "      <td>65</td>\n",
       "      <td>10</td>\n",
       "      <td>Yes</td>\n",
       "      <td>Yes</td>\n",
       "    </tr>\n",
       "  </tbody>\n",
       "</table>\n",
       "</div>"
      ],
      "text/plain": [
       "   Sales  CompPrice  Income  Advertising  Population  Price ShelveLoc  Age  \\\n",
       "0   9.50        138      73           11         276    120       Bad   42   \n",
       "1  11.22        111      48           16         260     83      Good   65   \n",
       "\n",
       "   Education Urban   US  \n",
       "0         17   Yes  Yes  \n",
       "1         10   Yes  Yes  "
      ]
     },
     "execution_count": 30,
     "metadata": {},
     "output_type": "execute_result"
    }
   ],
   "source": [
    "c_data=pd.read_csv(\"Company_Data (1).csv\")\n",
    "c_data.head(2)"
   ]
  },
  {
   "cell_type": "code",
   "execution_count": 31,
   "id": "f47d6b99",
   "metadata": {},
   "outputs": [],
   "source": [
    "lm=LabelEncoder()\n",
    "c_data[\"Urban\"]=lm.fit_transform(c_data[\"Urban\"])\n",
    "c_data[\"US\"]=lm.fit_transform(c_data[\"US\"])\n",
    "c_data[\"ShelveLoc\"]=lm.fit_transform(c_data[\"ShelveLoc\"])"
   ]
  },
  {
   "cell_type": "code",
   "execution_count": 32,
   "id": "4935022c",
   "metadata": {},
   "outputs": [
    {
     "data": {
      "text/html": [
       "<div>\n",
       "<style scoped>\n",
       "    .dataframe tbody tr th:only-of-type {\n",
       "        vertical-align: middle;\n",
       "    }\n",
       "\n",
       "    .dataframe tbody tr th {\n",
       "        vertical-align: top;\n",
       "    }\n",
       "\n",
       "    .dataframe thead th {\n",
       "        text-align: right;\n",
       "    }\n",
       "</style>\n",
       "<table border=\"1\" class=\"dataframe\">\n",
       "  <thead>\n",
       "    <tr style=\"text-align: right;\">\n",
       "      <th></th>\n",
       "      <th>Sales</th>\n",
       "      <th>CompPrice</th>\n",
       "      <th>Income</th>\n",
       "      <th>Advertising</th>\n",
       "      <th>Population</th>\n",
       "      <th>Price</th>\n",
       "      <th>ShelveLoc</th>\n",
       "      <th>Age</th>\n",
       "      <th>Education</th>\n",
       "      <th>Urban</th>\n",
       "      <th>US</th>\n",
       "    </tr>\n",
       "  </thead>\n",
       "  <tbody>\n",
       "    <tr>\n",
       "      <th>0</th>\n",
       "      <td>9.50</td>\n",
       "      <td>138</td>\n",
       "      <td>73</td>\n",
       "      <td>11</td>\n",
       "      <td>276</td>\n",
       "      <td>120</td>\n",
       "      <td>0</td>\n",
       "      <td>42</td>\n",
       "      <td>17</td>\n",
       "      <td>1</td>\n",
       "      <td>1</td>\n",
       "    </tr>\n",
       "    <tr>\n",
       "      <th>1</th>\n",
       "      <td>11.22</td>\n",
       "      <td>111</td>\n",
       "      <td>48</td>\n",
       "      <td>16</td>\n",
       "      <td>260</td>\n",
       "      <td>83</td>\n",
       "      <td>1</td>\n",
       "      <td>65</td>\n",
       "      <td>10</td>\n",
       "      <td>1</td>\n",
       "      <td>1</td>\n",
       "    </tr>\n",
       "    <tr>\n",
       "      <th>2</th>\n",
       "      <td>10.06</td>\n",
       "      <td>113</td>\n",
       "      <td>35</td>\n",
       "      <td>10</td>\n",
       "      <td>269</td>\n",
       "      <td>80</td>\n",
       "      <td>2</td>\n",
       "      <td>59</td>\n",
       "      <td>12</td>\n",
       "      <td>1</td>\n",
       "      <td>1</td>\n",
       "    </tr>\n",
       "  </tbody>\n",
       "</table>\n",
       "</div>"
      ],
      "text/plain": [
       "   Sales  CompPrice  Income  Advertising  Population  Price  ShelveLoc  Age  \\\n",
       "0   9.50        138      73           11         276    120          0   42   \n",
       "1  11.22        111      48           16         260     83          1   65   \n",
       "2  10.06        113      35           10         269     80          2   59   \n",
       "\n",
       "   Education  Urban  US  \n",
       "0         17      1   1  \n",
       "1         10      1   1  \n",
       "2         12      1   1  "
      ]
     },
     "execution_count": 32,
     "metadata": {},
     "output_type": "execute_result"
    }
   ],
   "source": [
    "c_data.head(3)"
   ]
  },
  {
   "cell_type": "code",
   "execution_count": 33,
   "id": "330680b1",
   "metadata": {},
   "outputs": [],
   "source": [
    "X=c_data.iloc[:,1:]\n",
    "Y=c_data.iloc[:,0]"
   ]
  },
  {
   "cell_type": "code",
   "execution_count": 34,
   "id": "e50bb9c2",
   "metadata": {},
   "outputs": [],
   "source": [
    "from sklearn.model_selection import train_test_split"
   ]
  },
  {
   "cell_type": "code",
   "execution_count": 35,
   "id": "bd15130a",
   "metadata": {},
   "outputs": [],
   "source": [
    "x_train,x_test,y_train,y_test=train_test_split(X,Y,test_size=0.33,random_state=10)"
   ]
  },
  {
   "cell_type": "code",
   "execution_count": 36,
   "id": "8ff9ec20",
   "metadata": {},
   "outputs": [],
   "source": [
    "sc=StandardScaler()\n",
    "x_train=sc.fit_transform(x_train)\n",
    "x_test=sc.fit_transform(x_test)"
   ]
  },
  {
   "cell_type": "markdown",
   "id": "beb464f9",
   "metadata": {},
   "source": [
    "LETS USE THE RANDOM FOREST REGRESSOR SINCE THE TARGET VARIABLE IS CATERGORICAL "
   ]
  },
  {
   "cell_type": "code",
   "execution_count": 37,
   "id": "d2063ec1",
   "metadata": {},
   "outputs": [],
   "source": [
    "model=RandomForestRegressor()"
   ]
  },
  {
   "cell_type": "code",
   "execution_count": 38,
   "id": "9706f2e0",
   "metadata": {},
   "outputs": [
    {
     "data": {
      "text/plain": [
       "RandomForestRegressor()"
      ]
     },
     "execution_count": 38,
     "metadata": {},
     "output_type": "execute_result"
    }
   ],
   "source": [
    "model.fit(x_train,y_train)"
   ]
  },
  {
   "cell_type": "code",
   "execution_count": 39,
   "id": "db259d8f",
   "metadata": {},
   "outputs": [],
   "source": [
    "y_pred=model.predict(x_test)"
   ]
  },
  {
   "cell_type": "code",
   "execution_count": 40,
   "id": "878a5ca0",
   "metadata": {},
   "outputs": [
    {
     "data": {
      "text/plain": [
       "0.6395835960745548"
      ]
     },
     "execution_count": 40,
     "metadata": {},
     "output_type": "execute_result"
    }
   ],
   "source": [
    "model.score(x_test,y_test)"
   ]
  },
  {
   "cell_type": "code",
   "execution_count": 41,
   "id": "940c9457",
   "metadata": {},
   "outputs": [
    {
     "data": {
      "text/plain": [
       "array([0.08583273, 0.05478473, 0.08136832, 0.04088122, 0.30500247,\n",
       "       0.30353086, 0.08535925, 0.03308539, 0.00575816, 0.00439688])"
      ]
     },
     "execution_count": 41,
     "metadata": {},
     "output_type": "execute_result"
    }
   ],
   "source": [
    "model.feature_importances_"
   ]
  },
  {
   "cell_type": "code",
   "execution_count": 42,
   "id": "208df370",
   "metadata": {},
   "outputs": [
    {
     "data": {
      "text/plain": [
       "array([ 6.9036,  6.639 , 10.2693,  4.9359,  9.8115,  5.817 ,  6.6776,\n",
       "        6.8584,  7.059 ,  8.1448,  6.4152, 10.8514,  7.2064,  8.6697,\n",
       "        7.505 ,  6.455 ,  4.4128,  4.7449,  5.8642,  8.6007,  5.3034,\n",
       "        8.2821,  8.7067,  4.4871,  6.3786,  5.4603,  9.6951,  6.2952,\n",
       "        6.8665,  5.9087, 11.913 ,  6.6527,  7.4298,  8.6911,  7.3941,\n",
       "        5.7571, 11.551 ,  8.3169,  8.4185,  8.7493, 10.7744,  5.3594,\n",
       "        8.9514,  7.1956,  5.4191,  7.1627,  8.5807,  8.5033,  7.9526,\n",
       "        4.3727,  6.0644,  7.557 ,  4.3767, 10.1284,  6.5256, 12.0687,\n",
       "        6.7347,  7.182 ,  6.9032, 10.6105,  6.3849,  4.7037,  5.956 ,\n",
       "        6.4581,  3.8569,  8.2994,  9.1049,  8.2743,  7.3385,  8.1496,\n",
       "        8.9196,  5.5259,  5.0809,  7.8471,  5.0676,  9.5935,  4.5193,\n",
       "        6.397 ,  8.9154,  6.4513,  9.343 ,  9.7521,  9.9757,  7.3179,\n",
       "        8.0178,  6.7591,  7.7009,  7.8165,  8.115 ,  8.0166,  6.6457,\n",
       "        7.975 ,  5.4115, 10.2503,  5.3827,  9.8919,  7.0539,  5.0405,\n",
       "        8.0596,  8.6386,  3.3493,  9.4106,  9.9103,  7.6679,  5.8303,\n",
       "        9.3014,  6.4385,  6.9929,  6.6057,  5.5722,  5.3668,  5.6176,\n",
       "        4.3718, 10.4993,  7.1057, 10.4876,  7.0392,  6.3165,  6.6499,\n",
       "        8.1553,  8.311 , 12.1248,  6.6591,  6.7946, 10.4562,  8.3678,\n",
       "       10.0075,  5.4303,  7.5402,  7.5349,  8.2627,  4.2096])"
      ]
     },
     "execution_count": 42,
     "metadata": {},
     "output_type": "execute_result"
    }
   ],
   "source": [
    "y_pred"
   ]
  },
  {
   "cell_type": "code",
   "execution_count": 43,
   "id": "4c9a4be0",
   "metadata": {},
   "outputs": [],
   "source": [
    "from sklearn import metrics"
   ]
  },
  {
   "cell_type": "code",
   "execution_count": 52,
   "id": "91a325d4",
   "metadata": {},
   "outputs": [
    {
     "name": "stdout",
     "output_type": "stream",
     "text": [
      "mean_squared_error: 2.476152344242422\n"
     ]
    }
   ],
   "source": [
    "metrics.mean_squared_error(y_test,y_pred)\n",
    "print(\"mean_squared_error:\",metrics.mean_squared_error(y_test,y_pred))"
   ]
  },
  {
   "cell_type": "code",
   "execution_count": 53,
   "id": "6021f2c2",
   "metadata": {},
   "outputs": [
    {
     "name": "stdout",
     "output_type": "stream",
     "text": [
      "mean_absolute_error: 1.2603757575757573\n"
     ]
    }
   ],
   "source": [
    "metrics.mean_absolute_error(y_test,y_pred)\n",
    "print(\"mean_absolute_error:\",metrics.mean_absolute_error(y_test,y_pred))"
   ]
  },
  {
   "cell_type": "code",
   "execution_count": 54,
   "id": "807a480b",
   "metadata": {},
   "outputs": [
    {
     "name": "stdout",
     "output_type": "stream",
     "text": [
      "mean_absolute_percentage_error: 0.20389903769379195\n"
     ]
    }
   ],
   "source": [
    "metrics.mean_absolute_percentage_error(y_test,y_pred)\n",
    "print(\"mean_absolute_percentage_error:\",metrics.mean_absolute_percentage_error(y_test,y_pred))"
   ]
  },
  {
   "cell_type": "code",
   "execution_count": 56,
   "id": "b0ccd966",
   "metadata": {},
   "outputs": [
    {
     "name": "stdout",
     "output_type": "stream",
     "text": [
      "root mean_squared_error: 1.5735794686772009\n"
     ]
    }
   ],
   "source": [
    "print(\"root mean_squared_error:\",np.sqrt(metrics.mean_squared_error(y_test,y_pred)))"
   ]
  },
  {
   "cell_type": "markdown",
   "id": "cb551c80",
   "metadata": {},
   "source": [
    "# lets do bagging and boosting"
   ]
  },
  {
   "cell_type": "code",
   "execution_count": 1,
   "id": "29dd0dba",
   "metadata": {},
   "outputs": [],
   "source": [
    "import pandas as pd\n",
    "import numpy as np\n",
    "from sklearn.preprocessing import LabelEncoder\n",
    "from sklearn.model_selection import cross_val_score,KFold\n",
    "from sklearn.ensemble import BaggingClassifier,BaggingRegressor,AdaBoostRegressor\n",
    "from sklearn.tree import DecisionTreeRegressor"
   ]
  },
  {
   "cell_type": "code",
   "execution_count": 2,
   "id": "4aba3322",
   "metadata": {},
   "outputs": [
    {
     "data": {
      "text/html": [
       "<div>\n",
       "<style scoped>\n",
       "    .dataframe tbody tr th:only-of-type {\n",
       "        vertical-align: middle;\n",
       "    }\n",
       "\n",
       "    .dataframe tbody tr th {\n",
       "        vertical-align: top;\n",
       "    }\n",
       "\n",
       "    .dataframe thead th {\n",
       "        text-align: right;\n",
       "    }\n",
       "</style>\n",
       "<table border=\"1\" class=\"dataframe\">\n",
       "  <thead>\n",
       "    <tr style=\"text-align: right;\">\n",
       "      <th></th>\n",
       "      <th>Sales</th>\n",
       "      <th>CompPrice</th>\n",
       "      <th>Income</th>\n",
       "      <th>Advertising</th>\n",
       "      <th>Population</th>\n",
       "      <th>Price</th>\n",
       "      <th>ShelveLoc</th>\n",
       "      <th>Age</th>\n",
       "      <th>Education</th>\n",
       "      <th>Urban</th>\n",
       "      <th>US</th>\n",
       "    </tr>\n",
       "  </thead>\n",
       "  <tbody>\n",
       "    <tr>\n",
       "      <th>0</th>\n",
       "      <td>9.50</td>\n",
       "      <td>138</td>\n",
       "      <td>73</td>\n",
       "      <td>11</td>\n",
       "      <td>276</td>\n",
       "      <td>120</td>\n",
       "      <td>Bad</td>\n",
       "      <td>42</td>\n",
       "      <td>17</td>\n",
       "      <td>Yes</td>\n",
       "      <td>Yes</td>\n",
       "    </tr>\n",
       "    <tr>\n",
       "      <th>1</th>\n",
       "      <td>11.22</td>\n",
       "      <td>111</td>\n",
       "      <td>48</td>\n",
       "      <td>16</td>\n",
       "      <td>260</td>\n",
       "      <td>83</td>\n",
       "      <td>Good</td>\n",
       "      <td>65</td>\n",
       "      <td>10</td>\n",
       "      <td>Yes</td>\n",
       "      <td>Yes</td>\n",
       "    </tr>\n",
       "    <tr>\n",
       "      <th>2</th>\n",
       "      <td>10.06</td>\n",
       "      <td>113</td>\n",
       "      <td>35</td>\n",
       "      <td>10</td>\n",
       "      <td>269</td>\n",
       "      <td>80</td>\n",
       "      <td>Medium</td>\n",
       "      <td>59</td>\n",
       "      <td>12</td>\n",
       "      <td>Yes</td>\n",
       "      <td>Yes</td>\n",
       "    </tr>\n",
       "  </tbody>\n",
       "</table>\n",
       "</div>"
      ],
      "text/plain": [
       "   Sales  CompPrice  Income  Advertising  Population  Price ShelveLoc  Age  \\\n",
       "0   9.50        138      73           11         276    120       Bad   42   \n",
       "1  11.22        111      48           16         260     83      Good   65   \n",
       "2  10.06        113      35           10         269     80    Medium   59   \n",
       "\n",
       "   Education Urban   US  \n",
       "0         17   Yes  Yes  \n",
       "1         10   Yes  Yes  \n",
       "2         12   Yes  Yes  "
      ]
     },
     "execution_count": 2,
     "metadata": {},
     "output_type": "execute_result"
    }
   ],
   "source": [
    "c_d=pd.read_csv(\"Company_Data (1).csv\")\n",
    "c_d.head(3)"
   ]
  },
  {
   "cell_type": "code",
   "execution_count": 3,
   "id": "55d7df79",
   "metadata": {},
   "outputs": [],
   "source": [
    "# using label encoder for the categorical values\n",
    "from sklearn.preprocessing import LabelEncoder\n",
    "lm=LabelEncoder()\n",
    "c_d['ShelveLoc']=lm.fit_transform(c_d['ShelveLoc'])\n",
    "c_d['Urban']=lm.fit_transform(c_d['Urban'])\n",
    "c_d['US']=lm.fit_transform(c_d['US'])"
   ]
  },
  {
   "cell_type": "code",
   "execution_count": 4,
   "id": "062de922",
   "metadata": {},
   "outputs": [
    {
     "data": {
      "text/html": [
       "<div>\n",
       "<style scoped>\n",
       "    .dataframe tbody tr th:only-of-type {\n",
       "        vertical-align: middle;\n",
       "    }\n",
       "\n",
       "    .dataframe tbody tr th {\n",
       "        vertical-align: top;\n",
       "    }\n",
       "\n",
       "    .dataframe thead th {\n",
       "        text-align: right;\n",
       "    }\n",
       "</style>\n",
       "<table border=\"1\" class=\"dataframe\">\n",
       "  <thead>\n",
       "    <tr style=\"text-align: right;\">\n",
       "      <th></th>\n",
       "      <th>Sales</th>\n",
       "      <th>CompPrice</th>\n",
       "      <th>Income</th>\n",
       "      <th>Advertising</th>\n",
       "      <th>Population</th>\n",
       "      <th>Price</th>\n",
       "      <th>ShelveLoc</th>\n",
       "      <th>Age</th>\n",
       "      <th>Education</th>\n",
       "      <th>Urban</th>\n",
       "      <th>US</th>\n",
       "    </tr>\n",
       "  </thead>\n",
       "  <tbody>\n",
       "    <tr>\n",
       "      <th>0</th>\n",
       "      <td>9.50</td>\n",
       "      <td>138</td>\n",
       "      <td>73</td>\n",
       "      <td>11</td>\n",
       "      <td>276</td>\n",
       "      <td>120</td>\n",
       "      <td>0</td>\n",
       "      <td>42</td>\n",
       "      <td>17</td>\n",
       "      <td>1</td>\n",
       "      <td>1</td>\n",
       "    </tr>\n",
       "    <tr>\n",
       "      <th>1</th>\n",
       "      <td>11.22</td>\n",
       "      <td>111</td>\n",
       "      <td>48</td>\n",
       "      <td>16</td>\n",
       "      <td>260</td>\n",
       "      <td>83</td>\n",
       "      <td>1</td>\n",
       "      <td>65</td>\n",
       "      <td>10</td>\n",
       "      <td>1</td>\n",
       "      <td>1</td>\n",
       "    </tr>\n",
       "    <tr>\n",
       "      <th>2</th>\n",
       "      <td>10.06</td>\n",
       "      <td>113</td>\n",
       "      <td>35</td>\n",
       "      <td>10</td>\n",
       "      <td>269</td>\n",
       "      <td>80</td>\n",
       "      <td>2</td>\n",
       "      <td>59</td>\n",
       "      <td>12</td>\n",
       "      <td>1</td>\n",
       "      <td>1</td>\n",
       "    </tr>\n",
       "  </tbody>\n",
       "</table>\n",
       "</div>"
      ],
      "text/plain": [
       "   Sales  CompPrice  Income  Advertising  Population  Price  ShelveLoc  Age  \\\n",
       "0   9.50        138      73           11         276    120          0   42   \n",
       "1  11.22        111      48           16         260     83          1   65   \n",
       "2  10.06        113      35           10         269     80          2   59   \n",
       "\n",
       "   Education  Urban  US  \n",
       "0         17      1   1  \n",
       "1         10      1   1  \n",
       "2         12      1   1  "
      ]
     },
     "execution_count": 4,
     "metadata": {},
     "output_type": "execute_result"
    }
   ],
   "source": [
    "c_d.head(3)"
   ]
  },
  {
   "cell_type": "code",
   "execution_count": 9,
   "id": "1ee2ce95",
   "metadata": {},
   "outputs": [],
   "source": [
    "# standraize the vlues\n",
    "def n_funtion (i):\n",
    "    x=(i-i.min()/i.max()-i.min())\n",
    "    return(x)\n"
   ]
  },
  {
   "cell_type": "code",
   "execution_count": 12,
   "id": "95a968f6",
   "metadata": {},
   "outputs": [
    {
     "data": {
      "text/html": [
       "<div>\n",
       "<style scoped>\n",
       "    .dataframe tbody tr th:only-of-type {\n",
       "        vertical-align: middle;\n",
       "    }\n",
       "\n",
       "    .dataframe tbody tr th {\n",
       "        vertical-align: top;\n",
       "    }\n",
       "\n",
       "    .dataframe thead th {\n",
       "        text-align: right;\n",
       "    }\n",
       "</style>\n",
       "<table border=\"1\" class=\"dataframe\">\n",
       "  <thead>\n",
       "    <tr style=\"text-align: right;\">\n",
       "      <th></th>\n",
       "      <th>Sales</th>\n",
       "      <th>CompPrice</th>\n",
       "      <th>Income</th>\n",
       "      <th>Advertising</th>\n",
       "      <th>Population</th>\n",
       "      <th>Price</th>\n",
       "      <th>ShelveLoc</th>\n",
       "      <th>Age</th>\n",
       "      <th>Education</th>\n",
       "      <th>Urban</th>\n",
       "      <th>US</th>\n",
       "    </tr>\n",
       "  </thead>\n",
       "  <tbody>\n",
       "    <tr>\n",
       "      <th>0</th>\n",
       "      <td>9.50</td>\n",
       "      <td>60.56</td>\n",
       "      <td>51.825</td>\n",
       "      <td>11.0</td>\n",
       "      <td>265.980354</td>\n",
       "      <td>95.874346</td>\n",
       "      <td>0.0</td>\n",
       "      <td>16.6875</td>\n",
       "      <td>6.444444</td>\n",
       "      <td>1.0</td>\n",
       "      <td>1.0</td>\n",
       "    </tr>\n",
       "    <tr>\n",
       "      <th>1</th>\n",
       "      <td>11.22</td>\n",
       "      <td>33.56</td>\n",
       "      <td>26.825</td>\n",
       "      <td>16.0</td>\n",
       "      <td>249.980354</td>\n",
       "      <td>58.874346</td>\n",
       "      <td>1.0</td>\n",
       "      <td>39.6875</td>\n",
       "      <td>-0.555556</td>\n",
       "      <td>1.0</td>\n",
       "      <td>1.0</td>\n",
       "    </tr>\n",
       "    <tr>\n",
       "      <th>2</th>\n",
       "      <td>10.06</td>\n",
       "      <td>35.56</td>\n",
       "      <td>13.825</td>\n",
       "      <td>10.0</td>\n",
       "      <td>258.980354</td>\n",
       "      <td>55.874346</td>\n",
       "      <td>2.0</td>\n",
       "      <td>33.6875</td>\n",
       "      <td>1.444444</td>\n",
       "      <td>1.0</td>\n",
       "      <td>1.0</td>\n",
       "    </tr>\n",
       "  </tbody>\n",
       "</table>\n",
       "</div>"
      ],
      "text/plain": [
       "   Sales  CompPrice  Income  Advertising  Population      Price  ShelveLoc  \\\n",
       "0   9.50      60.56  51.825         11.0  265.980354  95.874346        0.0   \n",
       "1  11.22      33.56  26.825         16.0  249.980354  58.874346        1.0   \n",
       "2  10.06      35.56  13.825         10.0  258.980354  55.874346        2.0   \n",
       "\n",
       "       Age  Education  Urban   US  \n",
       "0  16.6875   6.444444    1.0  1.0  \n",
       "1  39.6875  -0.555556    1.0  1.0  \n",
       "2  33.6875   1.444444    1.0  1.0  "
      ]
     },
     "execution_count": 12,
     "metadata": {},
     "output_type": "execute_result"
    }
   ],
   "source": [
    "c_d1=n_funtion(c_d)\n",
    "c_d1.head(3)"
   ]
  },
  {
   "cell_type": "code",
   "execution_count": 13,
   "id": "44597cc0",
   "metadata": {},
   "outputs": [],
   "source": [
    "# usse bagging\n",
    "x=c_d1.iloc[:,1:]\n",
    "y=c_d1.iloc[:,0]"
   ]
  },
  {
   "cell_type": "code",
   "execution_count": 14,
   "id": "27d3a1cf",
   "metadata": {},
   "outputs": [
    {
     "data": {
      "text/plain": [
       "BaggingRegressor()"
      ]
     },
     "execution_count": 14,
     "metadata": {},
     "output_type": "execute_result"
    }
   ],
   "source": [
    "model=BaggingRegressor()\n",
    "model.fit(x,y)"
   ]
  },
  {
   "cell_type": "code",
   "execution_count": 15,
   "id": "a3d7063e",
   "metadata": {},
   "outputs": [
    {
     "data": {
      "text/plain": [
       "array([ 8.325, 10.922,  9.158,  7.955,  4.345, 10.543,  6.284, 11.198,\n",
       "        6.174,  5.213,  6.748, 11.517,  3.759, 11.487, 10.343,  7.236,\n",
       "        7.779, 11.754, 12.605,  8.268,  5.962, 11.335,  5.17 ,  5.623,\n",
       "        8.379, 13.781,  8.729,  6.378,  3.294,  6.973, 13.351,  7.832,\n",
       "        7.334,  9.23 ,  3.537, 10.369,  9.441,  4.904,  6.494,  3.578,\n",
       "        2.439,  7.609, 10.541,  4.745,  6.911,  4.085, 12.16 ,  4.741,\n",
       "        4.72 ,  9.721,  3.535,  4.431,  7.683,  6.59 ,  5.103,  6.316,\n",
       "       10.484,  1.995,  5.223,  5.416,  7.347,  6.79 ,  3.279,  8.214,\n",
       "        7.968,  4.717,  8.925,  8.956, 12.659,  7.949,  9.601,  6.884,\n",
       "        6.825, 11.139,  7.308,  9.138, 10.433,  8.381,  4.416,  8.071,\n",
       "        8.216,  7.82 ,  9.835,  5.73 ,  2.657,  7.892,  7.778, 11.356,\n",
       "        6.565,  7.728,  5.638,  4.482,  6.08 ,  8.556,  8.237,  5.361,\n",
       "        9.299,  7.366, 11.584,  4.837,  4.924,  6.9  ,  5.526,  6.399,\n",
       "        5.272,  6.431,  1.758,  8.315,  3.502,  8.35 ,  8.379,  6.394,\n",
       "        7.716,  6.28 ,  7.929,  7.94 ,  5.697,  8.95 ,  7.538,  7.596,\n",
       "        6.914, 10.514,  6.604,  7.602,  8.712, 10.063, 10.875,  6.397,\n",
       "        4.737,  5.453,  9.272,  7.28 ,  9.287,  7.874,  4.071,  6.41 ,\n",
       "        4.665,  6.315,  9.531, 11.571,  5.864,  5.764,  7.487,  1.458,\n",
       "        9.242,  8.927,  4.253, 10.911,  7.138, 10.165, 10.522, 10.764,\n",
       "        7.91 ,  6.202,  7.521,  8.328,  8.144,  9.679, 12.404,  8.383,\n",
       "        5.518,  3.339,  4.4  ,  5.521,  8.221,  0.76 ,  6.72 ,  7.26 ,\n",
       "        7.455, 10.5  ,  8.237, 12.305,  9.84 ,  6.329,  2.58 ,  7.265,\n",
       "        5.711, 10.939, 10.448,  7.076,  3.796,  7.484,  5.04 ,  5.921,\n",
       "        9.463,  9.95 ,  8.585,  5.63 ,  8.395, 10.277,  8.759,  6.971,\n",
       "        7.626, 12.809,  7.172,  4.371,  3.872,  3.351,  4.295,  6.03 ,\n",
       "        5.553,  7.113,  4.113,  2.362,  8.828,  5.417,  5.337,  6.916,\n",
       "        8.329,  3.934,  4.276,  8.933, 11.18 ,  8.262,  5.467,  2.745,\n",
       "        6.786,  4.852,  9.639, 10.382,  9.99 ,  5.63 ,  6.982,  4.26 ,\n",
       "        5.203,  7.256,  7.716,  8.052,  4.557,  9.843,  4.574,  8.159,\n",
       "       13.039,  8.794,  9.657,  5.226,  8.65 ,  9.207,  7.444,  4.058,\n",
       "        9.549, 10.509,  5.099,  6.763,  8.731, 10.781,  7.296,  4.666,\n",
       "        5.415,  4.236,  7.995,  5.063,  7.51 ,  5.52 ,  9.4  ,  7.657,\n",
       "        4.766,  7.923,  4.563,  5.693,  7.268,  5.56 ,  7.239,  7.439,\n",
       "        6.95 ,  5.865,  9.668,  6.11 ,  6.923,  5.186, 12.315,  4.959,\n",
       "       13.01 , 10.063,  7.112,  6.283,  6.641,  8.018,  7.525,  4.224,\n",
       "        3.809, 11.35 ,  7.812,  5.573,  6.465,  8.506,  6.959,  6.783,\n",
       "        6.606,  8.109,  8.502,  6.954, 11.564, 12.006, 13.119,  6.011,\n",
       "        9.262,  4.678, 10.142,  9.069,  8.102,  8.277,  5.294,  9.398,\n",
       "       11.971,  7.302,  5.38 ,  5.194,  9.272,  9.424,  8.262,  5.621,\n",
       "        6.901,  9.486,  8.177,  7.088, 13.097,  7.036,  9.996,  7.502,\n",
       "        6.07 ,  7.223,  9.625,  8.84 ,  3.107, 10.822,  5.776,  7.194,\n",
       "        3.593, 11.213,  4.764,  8.444,  6.809,  5.966,  7.249,  6.645,\n",
       "        5.268,  8.301,  6.34 , 11.505,  7.58 ,  7.506,  8.225,  5.797,\n",
       "        9.355,  5.773,  8.49 ,  7.692, 12.477,  9.597,  8.93 ,  9.821,\n",
       "       12.565,  8.96 ,  5.565,  6.872,  5.403, 11.17 ,  3.991,  3.935,\n",
       "        9.153,  8.643,  4.816, 10.03 , 11.649,  6.806,  5.943, 13.407,\n",
       "       10.306,  9.192,  6.572,  8.326,  7.458,  6.196,  8.708,  7.059,\n",
       "       15.644,  7.342,  6.533,  5.748,  8.964,  3.958,  6.305,  9.624,\n",
       "       12.694,  6.274,  6.515,  8.202,  7.782,  8.206,  5.415,  6.05 ,\n",
       "        4.774,  5.567,  5.416, 12.608,  6.434,  7.244,  5.058,  9.746])"
      ]
     },
     "execution_count": 15,
     "metadata": {},
     "output_type": "execute_result"
    }
   ],
   "source": [
    "y_pred=model.predict(x)\n",
    "y_pred"
   ]
  },
  {
   "cell_type": "code",
   "execution_count": 17,
   "id": "9bf76377",
   "metadata": {},
   "outputs": [
    {
     "data": {
      "text/plain": [
       "array(['CompPrice', 'Income', 'Advertising', 'Population', 'Price',\n",
       "       'ShelveLoc', 'Age', 'Education', 'Urban', 'US'], dtype=object)"
      ]
     },
     "execution_count": 17,
     "metadata": {},
     "output_type": "execute_result"
    }
   ],
   "source": [
    "model.feature_names_in_"
   ]
  },
  {
   "cell_type": "code",
   "execution_count": 19,
   "id": "2fccb3fd",
   "metadata": {},
   "outputs": [],
   "source": [
    "from sklearn import metrics"
   ]
  },
  {
   "cell_type": "code",
   "execution_count": 20,
   "id": "abf1a1fb",
   "metadata": {},
   "outputs": [
    {
     "name": "stdout",
     "output_type": "stream",
     "text": [
      "mean_sq_err 0.50939297\n"
     ]
    }
   ],
   "source": [
    "metrics.mean_squared_error(y,y_pred)\n",
    "print(\"mean_sq_err\",metrics.mean_squared_error(y,y_pred))"
   ]
  },
  {
   "cell_type": "code",
   "execution_count": 22,
   "id": "85e9304e",
   "metadata": {},
   "outputs": [
    {
     "name": "stdout",
     "output_type": "stream",
     "text": [
      "mean_absolute_error: 0.5375749999999999\n"
     ]
    }
   ],
   "source": [
    "metrics.mean_absolute_error(y,y_pred)\n",
    "print(\"mean_absolute_error:\",metrics.mean_absolute_error(y,y_pred))"
   ]
  },
  {
   "cell_type": "code",
   "execution_count": 26,
   "id": "093a8363",
   "metadata": {},
   "outputs": [
    {
     "name": "stdout",
     "output_type": "stream",
     "text": [
      "mean_absolute_percentage_error: 29048217596539.82\n"
     ]
    }
   ],
   "source": [
    "metrics.mean_absolute_percentage_error(y,y_pred)\n",
    "print(\"mean_absolute_percentage_error:\",metrics.mean_absolute_percentage_error(y,y_pred))"
   ]
  },
  {
   "cell_type": "code",
   "execution_count": 27,
   "id": "0790f95a",
   "metadata": {},
   "outputs": [],
   "source": [
    "#using train and test\n",
    "from sklearn.model_selection import train_test_split\n",
    "x_train,x_test,y_train,y_test=train_test_split(x,y,test_size=0.2,random_state=10)"
   ]
  },
  {
   "cell_type": "code",
   "execution_count": 29,
   "id": "808c6b9b",
   "metadata": {},
   "outputs": [
    {
     "data": {
      "text/plain": [
       "BaggingRegressor()"
      ]
     },
     "execution_count": 29,
     "metadata": {},
     "output_type": "execute_result"
    }
   ],
   "source": [
    "model1=BaggingRegressor()\n",
    "model1.fit(x_train,y_train)"
   ]
  },
  {
   "cell_type": "code",
   "execution_count": 30,
   "id": "363950f1",
   "metadata": {},
   "outputs": [
    {
     "data": {
      "text/plain": [
       "array([ 7.575,  6.026,  9.317,  5.258, 10.94 ,  6.758,  6.613,  7.278,\n",
       "        7.844,  7.371,  7.157, 10.137,  6.578,  8.009,  8.02 ,  8.316,\n",
       "        4.199,  5.654,  6.225,  9.867,  5.164,  8.593,  9.461,  4.593,\n",
       "        6.062,  5.589,  9.344,  6.762,  6.171,  5.547, 10.557,  6.627,\n",
       "        7.576,  9.358,  8.376,  7.264, 11.618,  6.993,  8.535,  8.653,\n",
       "        9.76 ,  5.107, 10.371,  7.032,  7.209,  7.33 ,  8.155,  8.058,\n",
       "        7.215,  4.734,  5.631,  7.746,  5.332, 10.202,  6.669, 12.602,\n",
       "        7.445,  6.488,  4.611,  9.65 ,  6.316,  4.912,  6.059,  5.714,\n",
       "        4.517,  8.45 ,  9.168,  7.509,  6.414,  8.562,  7.95 ,  5.491,\n",
       "        6.22 ,  7.84 ,  4.52 , 10.401,  4.294,  6.769,  7.766,  7.037])"
      ]
     },
     "execution_count": 30,
     "metadata": {},
     "output_type": "execute_result"
    }
   ],
   "source": [
    "y_pred=model1.predict(x_test)\n",
    "y_pred"
   ]
  },
  {
   "cell_type": "code",
   "execution_count": 31,
   "id": "dbc63a67",
   "metadata": {},
   "outputs": [
    {
     "name": "stdout",
     "output_type": "stream",
     "text": [
      "mean_sq_err 2.4469763125\n"
     ]
    }
   ],
   "source": [
    "metrics.mean_squared_error(y_test,y_pred)\n",
    "print(\"mean_sq_err\",metrics.mean_squared_error(y_test,y_pred))"
   ]
  },
  {
   "cell_type": "code",
   "execution_count": 32,
   "id": "8af7639a",
   "metadata": {},
   "outputs": [
    {
     "name": "stdout",
     "output_type": "stream",
     "text": [
      "mean_absolute_error: 1.2612374999999998\n"
     ]
    }
   ],
   "source": [
    "metrics.mean_absolute_error(y_test,y_pred)\n",
    "print(\"mean_absolute_error:\",metrics.mean_absolute_error(y_test,y_pred))"
   ]
  },
  {
   "cell_type": "code",
   "execution_count": 33,
   "id": "334fbc7f",
   "metadata": {},
   "outputs": [
    {
     "data": {
      "text/plain": [
       "AdaBoostRegressor()"
      ]
     },
     "execution_count": 33,
     "metadata": {},
     "output_type": "execute_result"
    }
   ],
   "source": [
    "from sklearn.ensemble import AdaBoostRegressor\n",
    "model3=AdaBoostRegressor()\n",
    "model3.fit(x_train,y_train)\n"
   ]
  },
  {
   "cell_type": "code",
   "execution_count": 34,
   "id": "1ad39ba2",
   "metadata": {},
   "outputs": [
    {
     "data": {
      "text/plain": [
       "array([ 8.38938776,  7.95477273, 10.07764706,  6.05095745, 10.27      ,\n",
       "        6.74111111,  5.23366667,  6.42852941,  6.83125   ,  7.76115942,\n",
       "        7.27083333,  9.90032   ,  6.40243478,  9.16983051,  8.61571429,\n",
       "        7.67276923,  5.3762    ,  5.73693548,  7.76115942,  9.27387324,\n",
       "        6.34153846,  8.16477941,  9.24852713,  5.06836364,  7.76115942,\n",
       "        5.93552147,  9.48884058,  7.55605505,  6.64478992,  6.34153846,\n",
       "       10.58009615,  5.79710744,  7.11724138,  9.61340909,  8.49438596,\n",
       "        7.11724138, 11.3985    ,  8.07328571,  9.24604167,  9.27387324,\n",
       "        7.77733333,  6.00612245,  9.16983051,  7.45083333,  5.79710744,\n",
       "        7.105     ,  8.07328571,  7.55790323,  7.55605505,  5.94065934,\n",
       "        7.20214286,  6.89721649,  5.00185185,  9.90032   ,  6.40243478,\n",
       "       11.1512    ,  6.05095745,  6.68      ,  5.94065934,  9.81382979,\n",
       "        6.47591398,  5.43066667,  5.93552147,  6.47591398,  5.16394366,\n",
       "        7.67276923,  9.65397849,  8.38938776,  6.01693182,  8.72421053,\n",
       "        8.165     ,  7.17791667,  5.61304348,  7.55605505,  5.55181818,\n",
       "        9.79576923,  5.89048193,  7.55790323,  9.48632184,  6.01693182])"
      ]
     },
     "execution_count": 34,
     "metadata": {},
     "output_type": "execute_result"
    }
   ],
   "source": [
    "y_pr=model3.predict(x_test)\n",
    "y_pr"
   ]
  },
  {
   "cell_type": "code",
   "execution_count": 35,
   "id": "b7f5e5a3",
   "metadata": {},
   "outputs": [
    {
     "name": "stdout",
     "output_type": "stream",
     "text": [
      "mean_absolute_error: 1.3164151381940539\n"
     ]
    }
   ],
   "source": [
    "metrics.mean_absolute_error(y_test,y_pr)\n",
    "print(\"mean_absolute_error:\",metrics.mean_absolute_error(y_test,y_pr))"
   ]
  },
  {
   "cell_type": "code",
   "execution_count": null,
   "id": "39c4b25c",
   "metadata": {},
   "outputs": [],
   "source": []
  }
 ],
 "metadata": {
  "kernelspec": {
   "display_name": "Python 3",
   "language": "python",
   "name": "python3"
  },
  "language_info": {
   "codemirror_mode": {
    "name": "ipython",
    "version": 3
   },
   "file_extension": ".py",
   "mimetype": "text/x-python",
   "name": "python",
   "nbconvert_exporter": "python",
   "pygments_lexer": "ipython3",
   "version": "3.8.8"
  }
 },
 "nbformat": 4,
 "nbformat_minor": 5
}
